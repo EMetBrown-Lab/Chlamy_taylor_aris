{
 "cells": [
  {
   "cell_type": "code",
   "execution_count": 43,
   "id": "564b51d8",
   "metadata": {},
   "outputs": [],
   "source": [
    "import os\n",
    "import itertools\n",
    "import subprocess\n",
    "\n",
    "class ChlamySimulationRunner:\n",
    "    def __init__(self, \n",
    "                 output_dir=\"output_file\", \n",
    "                 log_dir=\"logs\", \n",
    "                 param_dir=\"params\"):\n",
    "\n",
    "        self.output_dir = output_dir\n",
    "        self.log_dir = log_dir\n",
    "        self.param_dir = param_dir\n",
    "\n",
    "        os.makedirs(self.output_dir, exist_ok=True)\n",
    "        os.makedirs(self.log_dir, exist_ok=True)\n",
    "        os.makedirs(self.param_dir, exist_ok=True)\n",
    "\n",
    "        self.Ns = [int(1e6)]\n",
    "        self.taus = [1e-3]\n",
    "        self.Rs = [5e-6]\n",
    "        self.Hs = [100e-6]\n",
    "        self.eta_0s = [1e-3]\n",
    "        self.kbTs = [2.35e-16] #300 * 1.380649e-23]\n",
    "        self.vs = [00e-6]\n",
    "        self.Ls = [88e-3]\n",
    "        self.Ws = [180e-6]\n",
    "        self.Delta_Ps = [1e3]\n",
    "        self.Ts = [2.]\n",
    "        self.n_taskss = [1]\n",
    "        self.N_trajectoriess = [10]\n",
    "        self.oscillations = True # U can change this and pass it to run. too tired to do it\n",
    "        \n",
    "    def generate_param_file(self, filepath, **params):\n",
    "        with open(filepath, \"w\") as f:\n",
    "            for key, value in params.items():\n",
    "                f.write(f\"{key}={value}\\n\")\n",
    "\n",
    "    def build_command(self, output_path, param_dict):\n",
    "        base_cmd = [\n",
    "            \"python\", \"chlamy_run_simul.py\",\n",
    "            \"-o\", output_path\n",
    "        ]\n",
    "        for key, value in param_dict.items():\n",
    "            flag = f\"--{key}\" if key not in [\"N\", \"tau\", \"R\", \"H\", \"eta_0\", \"kbT\", \"v\", \"L\", \"W\", \"Delta_P\", \"T\"] else f\"-{key}\"\n",
    "            base_cmd.extend([flag, str(value)])\n",
    "        return base_cmd\n",
    "\n",
    "    def run_all(self):\n",
    "        for N, tau, R, H, eta_0, kbT, v, L, W, Delta_P, T, n_tasks, N_trajectories in itertools.product(\n",
    "            self.Ns, self.taus, self.Rs, self.Hs, self.eta_0s, self.kbTs,\n",
    "            self.vs, self.Ls, self.Ws, self.Delta_Ps, self.Ts, self.n_taskss, self.N_trajectoriess\n",
    "        ):\n",
    "            param_dict = {\n",
    "                \"N\": N, \"tau\": tau, \"R\": R, \"H\": H, \"eta_0\": eta_0, \"kbT\": kbT,\n",
    "                \"v\": v, \"L\": L, \"W\": W, \"Delta_P\": Delta_P, \"T\": T,\n",
    "                \"n_tasks\": n_tasks, \"N_trajectories\": N_trajectories\n",
    "            }\n",
    "\n",
    "            filename_base = f\"{N}_{tau}_{R}_{H}_{eta_0}_{kbT}_{v}_{T}_{Delta_P}_{L}_{W}_{n_tasks}_{N_trajectories}\"\n",
    "            output_path = self.output_dir #os.path.join(self.output_dir, filename_base)\n",
    "            param_path = os.path.join(self.param_dir, filename_base + \".txt\")\n",
    "            log_path = os.path.join(self.log_dir, filename_base + \".out\")\n",
    "\n",
    "            self.generate_param_file(param_path, **param_dict)\n",
    "            command = self.build_command(output_path, param_dict)\n",
    "\n",
    "            with open(log_path, \"w\") as log_file:\n",
    "                process = subprocess.run(command, stdout=log_file, stderr=subprocess.STDOUT)\n",
    "                if process.returncode != 0:\n",
    "                    print(f\"Simulation failed for: {filename_base}. See log: {log_path}\")\n"
   ]
  },
  {
   "cell_type": "markdown",
   "id": "477f2a19",
   "metadata": {},
   "source": [
    "# Create an instance of the simulations to import parameters"
   ]
  },
  {
   "cell_type": "code",
   "execution_count": 44,
   "id": "31aa9ee7",
   "metadata": {},
   "outputs": [],
   "source": [
    "import numpy as np\n"
   ]
  },
  {
   "cell_type": "code",
   "execution_count": 45,
   "id": "4c1dcb7b",
   "metadata": {},
   "outputs": [],
   "source": [
    "runner = ChlamySimulationRunner()\n"
   ]
  },
  {
   "cell_type": "markdown",
   "id": "82cb79bc",
   "metadata": {},
   "source": [
    "### Pressure array, log spaced, to match Brady plot velocities"
   ]
  },
  {
   "cell_type": "code",
   "execution_count": 46,
   "id": "90dceba4",
   "metadata": {},
   "outputs": [],
   "source": [
    "pressure_array_logspaced = np.logspace(\n",
    "        np.log(.1) / np.log(10), # Brady velodities\n",
    "        np.log(1000.) / np.log(10),\n",
    "        10,\n",
    "        base=10, )\n",
    "\n",
    "pressure_array_logspaced = np.append(pressure_array_logspaced, 0)"
   ]
  },
  {
   "cell_type": "code",
   "execution_count": 47,
   "id": "716f2449",
   "metadata": {},
   "outputs": [
    {
     "data": {
      "text/plain": [
       "array([1.00000000e-01, 2.78255940e-01, 7.74263683e-01, 2.15443469e+00,\n",
       "       5.99484250e+00, 1.66810054e+01, 4.64158883e+01, 1.29154967e+02,\n",
       "       3.59381366e+02, 1.00000000e+03, 0.00000000e+00])"
      ]
     },
     "execution_count": 47,
     "metadata": {},
     "output_type": "execute_result"
    }
   ],
   "source": [
    "pressure_array_logspaced"
   ]
  },
  {
   "cell_type": "markdown",
   "id": "351a5818",
   "metadata": {},
   "source": [
    "### Run all the simulations for the Brady plot"
   ]
  },
  {
   "cell_type": "code",
   "execution_count": 48,
   "id": "db678540",
   "metadata": {},
   "outputs": [],
   "source": [
    "Brady_plot_runner = ChlamySimulationRunner()\n",
    "Brady_plot_runner.output_dir = \"./output_file/Brady_plot_oscillflow_passive\"\n",
    "Brady_plot_runner.Delta_Ps = pressure_array_logspaced\n",
    "Brady_plot_runner.Ts = [1., 2., 4., 8.]\n",
    "Brady_plot_runner.run_all()"
   ]
  }
 ],
 "metadata": {
  "kernelspec": {
   "display_name": ".venv",
   "language": "python",
   "name": "python3"
  },
  "language_info": {
   "codemirror_mode": {
    "name": "ipython",
    "version": 3
   },
   "file_extension": ".py",
   "mimetype": "text/x-python",
   "name": "python",
   "nbconvert_exporter": "python",
   "pygments_lexer": "ipython3",
   "version": "3.13.3"
  }
 },
 "nbformat": 4,
 "nbformat_minor": 5
}
